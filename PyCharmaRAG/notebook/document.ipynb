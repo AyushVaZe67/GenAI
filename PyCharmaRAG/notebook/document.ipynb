{
 "cells": [
  {
   "cell_type": "code",
   "execution_count": 1,
   "id": "4844812a-5ac9-49d8-8c83-79a256e02e64",
   "metadata": {},
   "outputs": [],
   "source": [
    "from langchain_core.documents import Document"
   ]
  },
  {
   "cell_type": "code",
   "execution_count": 2,
   "id": "9b307843-d486-4d06-a66f-9b080db523ed",
   "metadata": {},
   "outputs": [],
   "source": [
    "doc = Document(\n",
    "    page_content=\"LangChain helps developers connect large language models with external data, APIs, and custom workflows.\",\n",
    "    metadata={\n",
    "        \"title\": \"LangChain Overview\",\n",
    "        \"author\": \"Ayush Vaze\",\n",
    "        \"category\": \"AI Framework\",\n",
    "        \"created_at\": \"2025-10-09\",\n",
    "        \"tags\": [\"LangChain\", \"LLM\", \"Integration\"]\n",
    "    }\n",
    ")"
   ]
  },
  {
   "cell_type": "code",
   "execution_count": 3,
   "id": "94848f67-73c9-4dba-b7b9-9252fa1f557d",
   "metadata": {},
   "outputs": [
    {
     "data": {
      "text/plain": [
       "Document(metadata={'title': 'LangChain Overview', 'author': 'Ayush Vaze', 'category': 'AI Framework', 'created_at': '2025-10-09', 'tags': ['LangChain', 'LLM', 'Integration']}, page_content='LangChain helps developers connect large language models with external data, APIs, and custom workflows.')"
      ]
     },
     "execution_count": 3,
     "metadata": {},
     "output_type": "execute_result"
    }
   ],
   "source": [
    "doc"
   ]
  },
  {
   "cell_type": "code",
   "execution_count": 4,
   "id": "da9b6af6-8ad5-4d28-b0d9-67e99a630a15",
   "metadata": {},
   "outputs": [],
   "source": [
    "## Create a simple txt file\n",
    "import os\n",
    "os.makedirs(\"../data/text_files\",exist_ok=True)"
   ]
  },
  {
   "cell_type": "code",
   "execution_count": 5,
   "id": "29ce1e0f-30a5-4b4b-bfba-fc03348373ee",
   "metadata": {},
   "outputs": [
    {
     "name": "stdout",
     "output_type": "stream",
     "text": [
      "✅ Sample text files created!\n"
     ]
    }
   ],
   "source": [
    "sample_texts={\n",
    "    \"../data/text_files/python_intro.txt\":\"\"\"Python Programming Introduction\n",
    "\n",
    "Python is a high-level, interpreted programming language known for its simplicity and readability.\n",
    "Created by Guido van Rossum and first released in 1991, Python has become one of the most popular\n",
    "programming languages in the world.\n",
    "\n",
    "Key Features:\n",
    "- Easy to learn and use\n",
    "- Extensive standard library\n",
    "- Cross-platform compatibility\n",
    "- Strong community support\n",
    "\n",
    "Python is widely used in web development, data science, artificial intelligence, and automation.\"\"\",\n",
    "    \n",
    "    \"../data/text_files/machine_learning.txt\": \"\"\"Machine Learning Basics\n",
    "\n",
    "Machine learning is a subset of artificial intelligence that enables systems to learn and improve\n",
    "from experience without being explicitly programmed. It focuses on developing computer programs\n",
    "that can access data and use it to learn for themselves.\n",
    "\n",
    "Types of Machine Learning:\n",
    "1. Supervised Learning: Learning with labeled data\n",
    "2. Unsupervised Learning: Finding patterns in unlabeled data\n",
    "3. Reinforcement Learning: Learning through rewards and penalties\n",
    "\n",
    "Applications include image recognition, speech processing, and recommendation systems\n",
    "    \n",
    "    \n",
    "    \"\"\"\n",
    "\n",
    "}\n",
    "\n",
    "for filepath,content in sample_texts.items():\n",
    "    with open(filepath,'w',encoding=\"utf-8\") as f:\n",
    "        f.write(content)\n",
    "\n",
    "print(\"✅ Sample text files created!\")"
   ]
  },
  {
   "cell_type": "code",
   "execution_count": 6,
   "id": "7d415a56-7da3-47e5-8899-17eb8ba4b5c1",
   "metadata": {},
   "outputs": [],
   "source": [
    "from langchain.document_loaders import TextLoader\n",
    "from langchain_community.document_loaders import TextLoader"
   ]
  },
  {
   "cell_type": "code",
   "execution_count": 7,
   "id": "8f62cb76-fb28-4fd8-81de-7da6ef04a011",
   "metadata": {},
   "outputs": [
    {
     "name": "stdout",
     "output_type": "stream",
     "text": [
      "[Document(metadata={'source': '../data/text_files/python_intro.txt'}, page_content='Python Programming Introduction\\n\\nPython is a high-level, interpreted programming language known for its simplicity and readability.\\nCreated by Guido van Rossum and first released in 1991, Python has become one of the most popular\\nprogramming languages in the world.\\n\\nKey Features:\\n- Easy to learn and use\\n- Extensive standard library\\n- Cross-platform compatibility\\n- Strong community support\\n\\nPython is widely used in web development, data science, artificial intelligence, and automation.')]\n"
     ]
    }
   ],
   "source": [
    "loader=TextLoader(\"../data/text_files/python_intro.txt\",encoding=\"utf-8\")\n",
    "document=loader.load()\n",
    "print(document)"
   ]
  },
  {
   "cell_type": "code",
   "execution_count": 8,
   "id": "49ae1015-2722-471f-b22d-bf03d41999d4",
   "metadata": {},
   "outputs": [
    {
     "data": {
      "text/plain": [
       "<langchain_community.document_loaders.text.TextLoader at 0x19f8f07d580>"
      ]
     },
     "execution_count": 8,
     "metadata": {},
     "output_type": "execute_result"
    }
   ],
   "source": [
    "loader"
   ]
  },
  {
   "cell_type": "code",
   "execution_count": 9,
   "id": "719fd9ad-12e5-43be-aaa4-a17f4986168e",
   "metadata": {},
   "outputs": [
    {
     "data": {
      "text/plain": [
       "[Document(metadata={'source': '../data/text_files/python_intro.txt'}, page_content='Python Programming Introduction\\n\\nPython is a high-level, interpreted programming language known for its simplicity and readability.\\nCreated by Guido van Rossum and first released in 1991, Python has become one of the most popular\\nprogramming languages in the world.\\n\\nKey Features:\\n- Easy to learn and use\\n- Extensive standard library\\n- Cross-platform compatibility\\n- Strong community support\\n\\nPython is widely used in web development, data science, artificial intelligence, and automation.')]"
      ]
     },
     "execution_count": 9,
     "metadata": {},
     "output_type": "execute_result"
    }
   ],
   "source": [
    "document"
   ]
  },
  {
   "cell_type": "code",
   "execution_count": 10,
   "id": "09eb9c87-560c-4a87-a130-aec3e41056f7",
   "metadata": {},
   "outputs": [
    {
     "data": {
      "text/plain": [
       "[Document(metadata={'source': '..\\\\data\\\\text_files\\\\machine_learning.txt'}, page_content='Machine Learning Basics\\n\\nMachine learning is a subset of artificial intelligence that enables systems to learn and improve\\nfrom experience without being explicitly programmed. It focuses on developing computer programs\\nthat can access data and use it to learn for themselves.\\n\\nTypes of Machine Learning:\\n1. Supervised Learning: Learning with labeled data\\n2. Unsupervised Learning: Finding patterns in unlabeled data\\n3. Reinforcement Learning: Learning through rewards and penalties\\n\\nApplications include image recognition, speech processing, and recommendation systems\\n    \\n    \\n    '),\n",
       " Document(metadata={'source': '..\\\\data\\\\text_files\\\\python_intro.txt'}, page_content='Python Programming Introduction\\n\\nPython is a high-level, interpreted programming language known for its simplicity and readability.\\nCreated by Guido van Rossum and first released in 1991, Python has become one of the most popular\\nprogramming languages in the world.\\n\\nKey Features:\\n- Easy to learn and use\\n- Extensive standard library\\n- Cross-platform compatibility\\n- Strong community support\\n\\nPython is widely used in web development, data science, artificial intelligence, and automation.')]"
      ]
     },
     "execution_count": 10,
     "metadata": {},
     "output_type": "execute_result"
    }
   ],
   "source": [
    "### Directory Loader\n",
    "from langchain_community.document_loaders import DirectoryLoader\n",
    "\n",
    "## load all the text files from the directory\n",
    "dir_loader=DirectoryLoader(\n",
    "    \"../data/text_files\",\n",
    "    glob=\"**/*.txt\", ## Pattern to match files  \n",
    "    loader_cls= TextLoader, ##loader class to use\n",
    "    loader_kwargs={'encoding': 'utf-8'},\n",
    "    show_progress=False\n",
    "\n",
    ")\n",
    "\n",
    "documents=dir_loader.load()\n",
    "documents"
   ]
  },
  {
   "cell_type": "code",
   "execution_count": 11,
   "id": "8e2be756-58de-4d8a-b291-4573401be60f",
   "metadata": {},
   "outputs": [
    {
     "data": {
      "text/plain": [
       "[Document(metadata={'producer': 'Microsoft® Word 2021', 'creator': 'Microsoft® Word 2021', 'creationdate': '2025-10-09T19:09:53+05:30', 'source': '..\\\\data\\\\pdf\\\\Coronary CT Angiography.pdf', 'file_path': '..\\\\data\\\\pdf\\\\Coronary CT Angiography.pdf', 'total_pages': 12, 'format': 'PDF 1.7', 'title': '', 'author': 'HP', 'subject': '', 'keywords': '', 'moddate': '2025-10-09T19:09:53+05:30', 'trapped': '', 'modDate': \"D:20251009190953+05'30'\", 'creationDate': \"D:20251009190953+05'30'\", 'page': 0}, page_content='Coronary CT Angiography (CCTA) & Heart Attack: Comprehensive Reference \\n \\nTable of Contents \\n1. Introduction \\n2. Anatomy & Physiology of Coronary Circulation \\n3. Pathophysiology of Coronary Artery Disease & Myocardial Infarction \\n4. What is CCTA? \\n5. Technical Principles of CCTA \\n1. CT Hardware & Detectors \\n2. ECG Gating (Prospective, Retrospective) \\n3. Contrast Use & Protocols \\n4. Image Acquisition & Reconstruction \\n5. Post-processing & Quantitative Analysis \\n6. Clinical Indications & Guidelines for CCTA \\n7. Interpretation of CCTA Findings \\n1. Stenosis Grading \\n2. Plaque Characterization & Vulnerable Plaque Features \\n3. Functional / Physiological Adjuncts (e.g. FFR_CT) \\n4. Limitations, Pitfalls & Artifacts \\n8. Radiation, Safety & Contrast Risks \\n9. Role of CCTA in Predicting & Diagnosing Heart Attack \\n10. Management Implications & Clinical Workflow Integration \\n11. Research Directions, AI & Automated Analysis \\n12. Case Examples & Typical Reporting \\n13. Glossary of Key Terms \\n14. References & Suggested Reading \\n \\n1. Introduction \\nCoronary computed tomography angiography (CCTA) is a noninvasive imaging modality that \\ncombines computed tomography (CT) with intravenous contrast to visualize the coronary arteries in'),\n",
       " Document(metadata={'producer': 'Microsoft® Word 2021', 'creator': 'Microsoft® Word 2021', 'creationdate': '2025-10-09T19:09:53+05:30', 'source': '..\\\\data\\\\pdf\\\\Coronary CT Angiography.pdf', 'file_path': '..\\\\data\\\\pdf\\\\Coronary CT Angiography.pdf', 'total_pages': 12, 'format': 'PDF 1.7', 'title': '', 'author': 'HP', 'subject': '', 'keywords': '', 'moddate': '2025-10-09T19:09:53+05:30', 'trapped': '', 'modDate': \"D:20251009190953+05'30'\", 'creationDate': \"D:20251009190953+05'30'\", 'page': 1}, page_content='three dimensions. It has become a central tool in assessing coronary artery disease (CAD), estimating \\nrisk of myocardial infarction, and guiding management in many patients. \\nMyocardial infarction (MI), or heart attack, occurs when blood flow to a portion of the myocardium \\n(heart muscle) is abruptly reduced or cut off, usually by thrombus formation over a ruptured \\natherosclerotic plaque. The interplay between imaging (anatomic and functional), risk stratification, \\nand clinical decision-making is crucial. Using CCTA, clinicians try not only to detect stenoses but also \\nto characterize plaque vulnerability, predict risk, and guide preventive or interventional therapies. \\nFor a retrieval-augmented generation (RAG) model, this document aims to be a semi-structured, \\ncomprehensive resource covering both the imaging modality (CCTA) and the disease entity (heart \\nattack), along with connections between them. \\n \\n2. Anatomy & Physiology of Coronary Circulation \\n2.1 Gross Anatomy of Coronary Arteries \\n• \\nLeft coronary artery (LCA) bifurcates into: \\no \\nLeft anterior descending (LAD) artery \\no \\nLeft circumflex (LCx) artery \\n• \\nRight coronary artery (RCA) \\n• \\nDominance (right, left, codominant) determines which artery supplies the posterior \\ndescending artery (PDA). \\n• \\nBranches: diagonal, septal perforators, obtuse marginals, posterolaterals, etc. \\n• \\nCoronary artery segments (proximal, mid, distal, ostium) are important in reporting. \\n2.2 Microvascular Circulation & Collaterals \\n• \\nAfter epicardial arteries, vessels branch into arterioles, capillaries, venules. \\n• \\nCollateral circulation can provide alternative blood supply in chronic stenoses. \\n2.3 Coronary Physiology & Flow \\n• \\nFlow is phasic: mostly during diastole, since systolic contraction compresses microvessels. \\n• \\nCoronary autoregulation maintains flow over a range of pressures. \\n• \\nFlow reserve (e.g. fractional flow reserve, FFR) is a key concept: the ratio of maximal \\nachievable flow to baseline. \\n \\n3. Pathophysiology of Coronary Artery Disease & Myocardial Infarction \\n3.1 Atherosclerosis & Plaque Development \\n• \\nInitiation: endothelial injury, lipid infiltration, inflammatory response.'),\n",
       " Document(metadata={'producer': 'Microsoft® Word 2021', 'creator': 'Microsoft® Word 2021', 'creationdate': '2025-10-09T19:09:53+05:30', 'source': '..\\\\data\\\\pdf\\\\Coronary CT Angiography.pdf', 'file_path': '..\\\\data\\\\pdf\\\\Coronary CT Angiography.pdf', 'total_pages': 12, 'format': 'PDF 1.7', 'title': '', 'author': 'HP', 'subject': '', 'keywords': '', 'moddate': '2025-10-09T19:09:53+05:30', 'trapped': '', 'modDate': \"D:20251009190953+05'30'\", 'creationDate': \"D:20251009190953+05'30'\", 'page': 2}, page_content='• \\nProgression: smooth muscle proliferation, extracellular matrix deposition, formation of \\nfibrous cap. \\n• \\nPlaques may calcify, become fibrotic, or develop a lipid core and necrosis. \\n• \\nVulnerable plaques: features such as a thin fibrous cap, large lipid/necrotic core, positive \\nremodeling, spotty calcification, napkin-ring sign. JACC+2Medscape+2 \\n• \\nRupture or erosion of vulnerable plaque triggers thrombosis. \\n3.2 Myocardial Infarction (MI) — Mechanism & Types \\n• \\nType 1 MI: atherothrombotic coronary artery disease—plaque rupture or erosion with \\nsuperimposed thrombosis. \\n• \\nType 2 MI: supply–demand mismatch (e.g. anemia, hypotension, tachyarrhythmia). \\n• \\nType 3–5: other causes (e.g. sudden death, procedural MI, etc.) \\nWhen the occlusion is severe and persistent, ischemia leads to myocardial necrosis. Timely \\nreperfusion is crucial to salvage myocardium. \\n3.3 Timeline of Ischemia → Infarction \\n• \\nMinutes: reversible injury, stunning \\n• \\nTens of minutes to hours: necrosis, cell death \\n• \\nOver days to weeks: remodeling, scar formation, ventricular changes \\n3.4 Clinical & Biomarker Correlates \\n• \\nTypical chest pain, ECG changes (ST-elevation, Q waves), troponin/CK-MB rise. \\n• \\nImaging (echo, MRI, SPECT) may show wall motion abnormalities, late gadolinium \\nenhancement. \\n3.5 Complications & Outcomes \\n• \\nArrhythmias, heart failure, ventricular rupture, cardiogenic shock, remodeling, reinfarction, \\netc. \\n \\n4. What is CCTA? \\n4.1 Definition & Overview \\nCCTA = Coronary Computed Tomography Angiography, also called coronary CTA. It is a CT-based \\nangiography where contrast is injected intravenously to opacify the coronary arteries, allowing \\nvisualization of lumen and vessel wall. Mayo Clinic+4Radiologyinfo.org+4Johns Hopkins Medicine+4 \\nIt differs from a standard (non-contrast) coronary calcium scan (CAC) which only measures calcified \\nplaque burden (calcium scoring). Mayo Clinic+2Medscape+2 \\n4.2 Historical Context & Evolution'),\n",
       " Document(metadata={'producer': 'Microsoft® Word 2021', 'creator': 'Microsoft® Word 2021', 'creationdate': '2025-10-09T19:09:53+05:30', 'source': '..\\\\data\\\\pdf\\\\Coronary CT Angiography.pdf', 'file_path': '..\\\\data\\\\pdf\\\\Coronary CT Angiography.pdf', 'total_pages': 12, 'format': 'PDF 1.7', 'title': '', 'author': 'HP', 'subject': '', 'keywords': '', 'moddate': '2025-10-09T19:09:53+05:30', 'trapped': '', 'modDate': \"D:20251009190953+05'30'\", 'creationDate': \"D:20251009190953+05'30'\", 'page': 3}, page_content='• \\nEarly CT scanners were too slow; with the advent of multi-detector CT (MDCT), faster \\nscanning with high temporal resolution became possible. \\n• \\nAdvances in detector technology, ECG gating, iterative reconstruction, dual-source CT, wide-\\ndetector CT, and AI-based image processing have improved image quality and reduced \\nradiation. \\n4.3 Advantages & Limitations Compared to Invasive Angiography \\nAdvantages: \\n• \\nNoninvasive (no catheter insertion) \\n• \\n3D imaging of vessel wall, plaque, remodeling, and adjacent structures \\n• \\nHigh negative predictive value (i.e. good at ruling out significant CAD) \\n• \\nAlso provides information on non-coronary thoracic structures \\nLimitations: \\n• \\nLimited spatial/temporal resolution compared to invasive angiography \\n• \\nInability to reliably assess very high-grade stenoses with heavy calcification \\n• \\nNo immediate therapeutic intervention (cannot revascularize in same setting) \\n• \\nRadiation exposure \\n• \\nContrast-induced nephropathy and allergic risks \\n \\n5. Technical Principles of CCTA \\n5.1 CT Hardware & Detector Technology \\n• \\nMulti-detector CT (MDCT): arrays of detectors allow acquisition of multiple slices in parallel, \\nreducing scan time. \\n• \\nDual-source CT: uses two X-ray tubes/detector sets to improve temporal resolution. \\n• \\nWide-detector CT / volumetric CT: covers the heart in one or few heartbeats (e.g. 256-, 320-\\nslice systems). \\n• \\nAdvantages: faster scanning, lower motion artifact, possibility of lower radiation doses. \\n5.2 ECG Gating Techniques \\n• \\nRetrospective ECG gating: continuous scanning over the cardiac cycle, then reconstruct \\nimages at desired phases. More flexible but typically higher radiation. \\n• \\nProspective ECG triggering (step-and-shoot or sequential gating): scanning only during a \\npredetermined phase (usually mid-diastole). Lower radiation, but less flexibility and \\nvulnerable to arrhythmias. \\n• \\nHigh-pitch spiral scanning: in dual-source CT, very rapid acquisition in one heartbeat. \\n5.3 Contrast Use & Protocols'),\n",
       " Document(metadata={'producer': 'Microsoft® Word 2021', 'creator': 'Microsoft® Word 2021', 'creationdate': '2025-10-09T19:09:53+05:30', 'source': '..\\\\data\\\\pdf\\\\Coronary CT Angiography.pdf', 'file_path': '..\\\\data\\\\pdf\\\\Coronary CT Angiography.pdf', 'total_pages': 12, 'format': 'PDF 1.7', 'title': '', 'author': 'HP', 'subject': '', 'keywords': '', 'moddate': '2025-10-09T19:09:53+05:30', 'trapped': '', 'modDate': \"D:20251009190953+05'30'\", 'creationDate': \"D:20251009190953+05'30'\", 'page': 4}, page_content='• \\nIodinated contrast (isosmolar or low-osmolar) injected through IV, typically in the arm or \\nantecubital vein. radnet.com+3Radiologyinfo.org+3Mayo Clinic+3 \\n• \\nBolus tracking or timing algorithms ensure contrast opacifies coronary arteries during scan \\nwindow. \\n• \\nTypical injection volumes ~ 50–100 mL (varies with patient size and scanner). \\n• \\nUse of saline flushes helps sharpen contrast bolus. \\n• \\nPremedication for patients with contrast allergies or renal impairment. \\n5.4 Image Acquisition & Reconstruction \\n• \\nThin-slice imaging (e.g. 0.5–0.75 mm) \\n• \\nOverlapping reconstructions and multi-planar reformats (MPR), maximum intensity \\nprojections (MIP), curved planar reconstructions (CPR), volume-rendered (3D) images. \\n• \\nIterative reconstruction or deep learning-based reconstruction methods to reduce noise and \\nallow lower radiation doses. \\n• \\nMotion correction algorithms to reduce artifacts from residual cardiac motion. \\n5.5 Post-processing & Quantitative Analysis \\n• \\nVessel centerline extraction \\n• \\nLuminal diameter/area measurements \\n• \\nPlaque segmentation and volume quantification \\n• \\nCharacterization of plaque components (calcified, noncalcified, mixed) \\n• \\nDetection of high-risk plaque features (low-attenuation plaque, positive remodeling, napkin-\\nring sign, spotty calcification) JACC+3JACC+3Radiologyinfo.org+3 \\n• \\nComputation of FFR_CT (fractional flow reserve derived via computational fluid dynamics) \\n• \\nDerivation of coronary perivascular fat attenuation index (FAI), wall shear stress (WSS), \\nplaque vulnerability scores \\n \\n6. Clinical Indications & Guidelines for CCTA \\n6.1 Appropriate Use Criteria / Recommendations \\n• \\nSymptomatic patients with low to intermediate pretest probability of CAD \\n• \\nPatients with chest pain who have inconclusive stress tests or equivocal findings \\n• \\nEvaluation of newly onset heart failure without known CAD \\n• \\nPreoperative assessment in selected patients undergoing noncardiac surgery \\n• \\nAssessment of bypass graft patency or in-stent restenosis (with caution) Medscape+2JACC+2'),\n",
       " Document(metadata={'producer': 'Microsoft® Word 2021', 'creator': 'Microsoft® Word 2021', 'creationdate': '2025-10-09T19:09:53+05:30', 'source': '..\\\\data\\\\pdf\\\\Coronary CT Angiography.pdf', 'file_path': '..\\\\data\\\\pdf\\\\Coronary CT Angiography.pdf', 'total_pages': 12, 'format': 'PDF 1.7', 'title': '', 'author': 'HP', 'subject': '', 'keywords': '', 'moddate': '2025-10-09T19:09:53+05:30', 'trapped': '', 'modDate': \"D:20251009190953+05'30'\", 'creationDate': \"D:20251009190953+05'30'\", 'page': 5}, page_content='• \\nAvoid in patients with arrhythmias, very high heart rates, severe renal dysfunction, or known \\nheavy calcification without likelihood of yielding useful images \\n6.2 Contraindications & Relative Exclusions \\n• \\nAllergy to iodinated contrast (unless premedicated) \\n• \\nSevere renal impairment (due to contrast nephropathy risk) \\n• \\nInability to hold breath or remain still \\n• \\nUncontrolled tachycardia, frequent ectopy, arrhythmias \\n• \\nVery high heart rates not controllable \\n• \\nPregnancy (radiation exposure risk) \\n• \\nExcessive coronary calcification (makes lumen assessment difficult) \\n6.3 Pre-scan Patient Preparation \\n• \\nAssess renal function (e.g. eGFR / creatinine) \\n• \\nReview medications, contraindications \\n• \\nFasting (commonly 4–8 hours) \\n• \\nAvoid caffeine in prior hours (to control heart rate) Mayo Clinic+2IU Health+2 \\n• \\nAdminister beta-blockers to lower heart rate (target ~ 60 bpm or less) Mayo \\nClinic+2Medscape+2 \\n• \\nNitroglycerin just before scan to dilate coronary arteries (if no contraindication) IU Health+1 \\n• \\nRemove jewelry, wear gown, place ECG electrodes, establish IV access \\n \\n7. Interpretation of CCTA Findings \\n7.1 Stenosis Grading & Reporting \\n• \\nStenosis severity is often expressed as percentage luminal narrowing (diameter or area) \\ncompared to reference segment \\n• \\nCategories often used: \\nGrade \\nApprox. % Narrowing Clinical Implication \\nNormal / minimal < 25% \\nunlikely to cause ischemia \\nMild \\n25–49% \\nrarely flow-limiting \\nModerate \\n50–69% \\npossible physiologic significance \\nSevere \\n≥ 70% \\nlikely flow-limiting, high risk \\n• \\nSoftware may provide automated quantification; visual confirmation is essential. \\nMedscape+2Radiologyinfo.org+2'),\n",
       " Document(metadata={'producer': 'Microsoft® Word 2021', 'creator': 'Microsoft® Word 2021', 'creationdate': '2025-10-09T19:09:53+05:30', 'source': '..\\\\data\\\\pdf\\\\Coronary CT Angiography.pdf', 'file_path': '..\\\\data\\\\pdf\\\\Coronary CT Angiography.pdf', 'total_pages': 12, 'format': 'PDF 1.7', 'title': '', 'author': 'HP', 'subject': '', 'keywords': '', 'moddate': '2025-10-09T19:09:53+05:30', 'trapped': '', 'modDate': \"D:20251009190953+05'30'\", 'creationDate': \"D:20251009190953+05'30'\", 'page': 6}, page_content='• \\nNonassessable / nondiagnostic segments must be noted (e.g. due to motion, artifacts, heavy \\ncalcification) \\n7.2 Plaque Characterization & Vulnerability Features \\nAssess and report: \\n• \\nPlaque composition: \\n– Calcified plaque \\n– Non-calcified (lipid-rich) plaque \\n– Mixed plaque \\n• \\nHigh-risk / vulnerable plaque features (these are associated with increased risk of acute \\ncoronary events) JACC+2Radiologyinfo.org+2 \\no \\nLow-attenuation plaque (LAP) (e.g. < 30 HU) \\no \\nPositive (outward) remodeling \\no \\nNapkin-ring sign (low-attenuation core surrounded by a higher-attenuation rim) \\no \\nSpotty calcification \\no \\nThin-cap fibroatheroma (inferred) \\n• \\nPlaque burden / volume metrics: total plaque volume, percent atheroma volume, \\nnoncalcified plaque volume \\n• \\nProgression / regression of plaque over serial studies (for monitoring therapy) JACC \\n7.3 Functional / Physiologic Adjuncts \\n• \\nFFR_CT: noninvasive computation of fractional flow reserve from CCTA images using \\ncomputational fluid dynamics; helps assess whether a stenosis is functionally significant. \\nJACC+1 \\n• \\nPerivascular Fat Attenuation Index (FAI): quantifies attenuation of fat around coronary \\narteries, serving as a biomarker for vascular inflammation and residual risk. JACC \\n• \\nWall Shear Stress (WSS): derived metrics of hemodynamic forces on vessel walls; areas of \\nlow or oscillatory WSS may correlate with plaque formation or progression. JACC \\n7.4 Limitations, Pitfalls & Artifacts \\n• \\nMotion artifacts (especially if heart rate is high or arrhythmias) \\n• \\nCalcification blooming / partial volume artifacts can obscure lumen \\n• \\nBeam-hardening, streak artifacts from stents, prostheses \\n• \\nMisregistration / misalignment between contrast bolus and scan timing \\n• \\nContrast washout / inadequate opacification \\n• \\nVariability among different CT systems, protocols, reconstruction methods \\n• \\nInterobserver variability in plaque classification / segmentation'),\n",
       " Document(metadata={'producer': 'Microsoft® Word 2021', 'creator': 'Microsoft® Word 2021', 'creationdate': '2025-10-09T19:09:53+05:30', 'source': '..\\\\data\\\\pdf\\\\Coronary CT Angiography.pdf', 'file_path': '..\\\\data\\\\pdf\\\\Coronary CT Angiography.pdf', 'total_pages': 12, 'format': 'PDF 1.7', 'title': '', 'author': 'HP', 'subject': '', 'keywords': '', 'moddate': '2025-10-09T19:09:53+05:30', 'trapped': '', 'modDate': \"D:20251009190953+05'30'\", 'creationDate': \"D:20251009190953+05'30'\", 'page': 7}, page_content='Thus, experienced interpretation, quality control, and awareness of artifacts are essential. \\n \\n8. Radiation, Safety & Contrast Risks \\n8.1 Radiation Dose \\n• \\nCCTA involves ionizing radiation; the dose depends on scanner type, ECG gating method, \\ntube current, voltage (kV), and reconstruction technique. \\n• \\nHistorically, doses ~10–15 mSv were common, but with modern techniques and \\niterative/deep learning reconstruction, doses can be reduced to ~1–3 mSv or even \\nsubmillisievert levels. radnet.com+4JACC+4Medscape+4 \\n• \\nLifetime attributable cancer risk is a theoretical concern, especially in younger patients. \\nJACC+1 \\n• \\nRadiation-optimization strategies include ECG-triggered prospective gating, lower tube \\nvoltage (e.g. 70–100 kVp), iterative or AI-based reconstruction, restricted z-axis coverage, \\ndose modulation. \\n8.2 Contrast Risks & Safety \\n• \\nAllergic reactions / contrast allergy: mild to severe; premedication recommended for high-\\nrisk patients \\n• \\nContrast-induced nephropathy (CIN): caution in patients with impaired renal function \\n• \\nThyroid effects (rare) \\n• \\nExtravasation at injection site \\n• \\nAdequate hydration before and after scan is standard preventive measure \\n8.3 Other Safety Considerations \\n• \\nBeta-blockers or nitroglycerin used may have contraindications (e.g. hypotension, severe \\naortic stenosis) \\n• \\nECG electrode placement, IV lines, patient monitoring \\n• \\nMonitoring for contrast injection complications \\n \\n9. Role of CCTA in Predicting & Diagnosing Heart Attack \\n9.1 Diagnostic Role in Acute Chest Pain & Rule-Out of CAD \\n• \\nIn patients with chest pain and intermediate risk, CCTA may be used to exclude obstructive \\nCAD rapidly. www.heart.org+2Radiologyinfo.org+2 \\n• \\nHigh negative predictive value: if CCTA is normal or nonobstructive, further invasive \\nangiography can often be avoided. \\n• \\nCCTA can detect non-coronary causes of chest pain (e.g. pulmonary embolism, aortic \\ndissection) in the same scan.'),\n",
       " Document(metadata={'producer': 'Microsoft® Word 2021', 'creator': 'Microsoft® Word 2021', 'creationdate': '2025-10-09T19:09:53+05:30', 'source': '..\\\\data\\\\pdf\\\\Coronary CT Angiography.pdf', 'file_path': '..\\\\data\\\\pdf\\\\Coronary CT Angiography.pdf', 'total_pages': 12, 'format': 'PDF 1.7', 'title': '', 'author': 'HP', 'subject': '', 'keywords': '', 'moddate': '2025-10-09T19:09:53+05:30', 'trapped': '', 'modDate': \"D:20251009190953+05'30'\", 'creationDate': \"D:20251009190953+05'30'\", 'page': 8}, page_content='9.2 Identifying Vulnerable Plaque & Predicting MI Risk \\n• \\nStudies show that high-risk plaque features detected on CCTA (e.g. low-attenuation plaque, \\npositive remodeling) are associated with future major adverse cardiac events (MACE), \\nincluding MI. JACC \\n• \\nThe SCOT-HEART trial and other large cohorts demonstrated incremental prognostic value of \\nCCTA (beyond stenosis severity) in predicting outcomes. JACC \\n• \\nQuantitative measures (plaque burden, noncalcified plaque volume) and progression over \\ntime are predictive of future events. JACC \\n• \\nEmerging biomarkers (FAI, WSS) may further stratify risk. \\n9.3 In the Post-MI / Secondary Prevention Setting \\n• \\nCCTA may help evaluate residual disease in nonculprit vessels, monitor plaque regression or \\nstabilization under therapy, and guide intensification of medical therapy. \\n• \\nSerial CCTA can assess plaque remodeling over time in response to statins, PCSK9 inhibitors, \\nor other therapies. JACC \\n9.4 Limitations in Predicting & Diagnosing MI \\n• \\nWhile high-risk plaque features are predictive, their individual positive predictive value is \\nlimited — many plaques with such features will not rupture. JACC \\n• \\nAcute MI is often triggered by sudden plaque rupture/erosion, which can occur even in non-\\nsevere lesions not obvious on prior imaging. \\n• \\nCCTA cannot reliably detect microvascular or small-vessel disease, or distinguish stable vs \\nunstable lesions in some cases. \\n \\n10. Management Implications & Clinical Workflow Integration \\n10.1 From CCTA to Decision Pathway \\n• \\nNo / minimal disease → reassure, risk-factor optimization \\n• \\nNonobstructive plaques → intensify medical therapy, lifestyle, statins, etc. \\n• \\nIntermediate lesions (50–69 %) → consider functional testing or FFR_CT \\n• \\nSevere lesions (≥ 70 %) or functionally significant lesions → refer for invasive coronary \\nangiography (ICA) and possible revascularization \\n• \\nHigh-risk plaque features may lead to closer follow-up or aggressive preventive therapy even \\nif stenosis not severe \\n• \\nIntegration into patient’s overall clinical context (symptoms, stress testing, biomarkers) is \\nessential. \\n10.2 Comparison with Traditional Tests & Workflow \\n• \\nStress tests (exercise ECG, nuclear, echo) provide functional data but limited anatomic detail'),\n",
       " Document(metadata={'producer': 'Microsoft® Word 2021', 'creator': 'Microsoft® Word 2021', 'creationdate': '2025-10-09T19:09:53+05:30', 'source': '..\\\\data\\\\pdf\\\\Coronary CT Angiography.pdf', 'file_path': '..\\\\data\\\\pdf\\\\Coronary CT Angiography.pdf', 'total_pages': 12, 'format': 'PDF 1.7', 'title': '', 'author': 'HP', 'subject': '', 'keywords': '', 'moddate': '2025-10-09T19:09:53+05:30', 'trapped': '', 'modDate': \"D:20251009190953+05'30'\", 'creationDate': \"D:20251009190953+05'30'\", 'page': 9}, page_content='• \\nInvasive angiography gives gold-standard lumen detail and possibility of revascularization \\n• \\nHybrid approaches: CCTA as gatekeeper to invasive angiography \\n• \\nIn some guidelines, CCTA is first-line test in certain populations \\n10.3 Cost-effectiveness, Resource Use & Barriers \\n• \\nCCTA avoids unnecessary invasive angiograms \\n• \\nRequires high-end CT hardware, software, radiology/cardiology expertise \\n• \\nReimbursement issues, especially in different health systems \\n• \\nNeed for standardized reporting and quality control \\n \\n11. Research Directions, AI & Automated Analysis \\n11.1 AI / Deep Learning in CCTA \\n• \\nAutomated vessel segmentation, centerline extraction (e.g. CNN-based methods) arXiv+1 \\n• \\nPlaque and stenosis classification (e.g. recurrent CNNs) arXiv+1 \\n• \\nWeakly supervised localization of atherosclerosis arXiv \\n• \\nHybrid models combining imaging + clinical data for risk prediction \\n• \\nEnd-to-end pipelines for triage (no plaque vs possible disease) \\n11.2 Novel Biomarkers & Quantitative Metrics \\n• \\nFAI (perivascular fat attenuation) as surrogate of inflammation \\n• \\nWall shear stress mapping \\n• \\nPlaque stress & biomechanical modeling \\n• \\nLongitudinal plaque progression / regression studies \\n• \\nIntegration of other imaging modalities (PET-CT, MRI, IVUS, OCT) for multimodal correlation \\n11.3 Emerging Clinical Trials & Validation Studies \\n• \\nTrials correlating CCTA biomarkers to hard outcomes (MI, death) \\n• \\nInterventional trials where imaging guides therapy (e.g. intensification based on plaque \\nvulnerability) \\n• \\nStandardization efforts, multicenter registries \\n \\n12. Case Examples & Typical Reporting \\n12.1 Example 1: Normal CCTA Report'),\n",
       " Document(metadata={'producer': 'Microsoft® Word 2021', 'creator': 'Microsoft® Word 2021', 'creationdate': '2025-10-09T19:09:53+05:30', 'source': '..\\\\data\\\\pdf\\\\Coronary CT Angiography.pdf', 'file_path': '..\\\\data\\\\pdf\\\\Coronary CT Angiography.pdf', 'total_pages': 12, 'format': 'PDF 1.7', 'title': '', 'author': 'HP', 'subject': '', 'keywords': '', 'moddate': '2025-10-09T19:09:53+05:30', 'trapped': '', 'modDate': \"D:20251009190953+05'30'\", 'creationDate': \"D:20251009190953+05'30'\", 'page': 10}, page_content='Findings: \\nCoronary arteries show no significant stenosis. No plaque, calcium or soft plaque, is identified. \\nImpression: Normal CCTA, low likelihood of obstructive CAD; no further invasive testing indicated. \\n12.2 Example 2: Mild Nonobstructive Plaque \\nFindings: \\nIn the proximal LAD, noncalcified plaque is seen causing ~ 30% luminal narrowing. No high-risk \\nfeatures. \\nImpression: Mild nonobstructive CAD. Recommend medical therapy and risk factor control. \\n12.3 Example 3: Intermediate Stenosis + High-Risk Plaque \\nFindings: \\nMid-LAD: mixed plaque causing ~ 55% diameter stenosis, positive remodeling (remodeling index 1.2), \\nlow-attenuation plaque (< 30 HU), napkin-ring sign. \\nAdditional metrics: FFR_CT = 0.78 (suggesting physiologically significant lesion) \\nImpression: Intermediate stenosis with features of vulnerable plaque. Recommend invasive \\nangiography or functional testing. \\n12.4 Example 4: Multivessel Disease \\nFindings: \\nProximal LAD: 70% stenosis with calcified plaque; mid-RCA: 65% stenosis; multiple noncritical lesions \\nin LCx. \\nImpression: Multivessel CAD; invasive coronary angiography recommended for definitive evaluation \\nand revascularization planning. \\nThese examples illustrate how reports integrate anatomical, morphological, and functional data. \\n \\n13. Glossary of Key Terms \\n• \\nCCTA: Coronary CT Angiography \\n• \\nCAD: Coronary Artery Disease \\n• \\nStenosis: Narrowing of a vessel \\n• \\nPlaque: Atherosclerotic deposit in vessel wall \\n• \\nCalcified plaque: Plaque with calcium component \\n• \\nNoncalcified plaque: Soft plaque, lipid-rich \\n• \\nMixed plaque: Both calcified and noncalcified components \\n• \\nLow-attenuation plaque (LAP): Plaque with low Hounsfield units (< ~30 HU) \\n• \\nPositive remodeling: Vessel expands outward in presence of plaque \\n• \\nNapkin-ring sign: Imaging sign suggestive of vulnerable plaque (low core + higher rim) \\n• \\nSpotty calcification: Small calcific foci within plaque \\n• \\nFFR (Fractional Flow Reserve): Ratio of maximal flow to theoretical maximum'),\n",
       " Document(metadata={'producer': 'Microsoft® Word 2021', 'creator': 'Microsoft® Word 2021', 'creationdate': '2025-10-09T19:09:53+05:30', 'source': '..\\\\data\\\\pdf\\\\Coronary CT Angiography.pdf', 'file_path': '..\\\\data\\\\pdf\\\\Coronary CT Angiography.pdf', 'total_pages': 12, 'format': 'PDF 1.7', 'title': '', 'author': 'HP', 'subject': '', 'keywords': '', 'moddate': '2025-10-09T19:09:53+05:30', 'trapped': '', 'modDate': \"D:20251009190953+05'30'\", 'creationDate': \"D:20251009190953+05'30'\", 'page': 11}, page_content='• \\nFFR_CT: Noninvasive FFR derived from CCTA \\n• \\nFAI (Fat Attenuation Index): Metric of perivascular fat attenuation, proxy for inflammation \\n• \\nWSS (Wall Shear Stress): Hemodynamic stress on vessel wall \\n• \\nMACE: Major Adverse Cardiac Events \\n• \\nHU: Hounsfield Units (CT density) \\n \\n14. References & Suggested Reading \\nSome key references: \\n• \\nRadiologyInfo, “Coronary CTA (CCTA)” Radiologyinfo.org \\n• \\nJohns Hopkins, Coronary CT Angiography overview Johns Hopkins Medicine \\n• \\nStatPearls, Coronary CT Angiography review NCBI \\n• \\nMayo Clinic, CT coronary angiogram overview Mayo Clinic \\n• \\nAmerican Heart Association, CCTA in diagnosis of heart attack www.heart.org \\n• \\nJACC article on clinical uses & prognostic value of CCTA JACC \\n• \\nMedscape, Coronary CT Angiography (Practice Essentials) Medscape \\n• \\nWikipedia, Coronary CT angiography general summary Wikipedia \\n• \\nAI/Deep Learning in coronary CT: CNN-based centerline extraction, stenosis classification \\n(Wolterink, Zreik, etc.) arXiv+3arXiv+3arXiv+3')]"
      ]
     },
     "execution_count": 11,
     "metadata": {},
     "output_type": "execute_result"
    }
   ],
   "source": [
    "from langchain_community.document_loaders import PyPDFLoader, PyMuPDFLoader\n",
    "\n",
    "## load all the text files from the directory\n",
    "dir_loader=DirectoryLoader(\n",
    "    \"../data/pdf\",\n",
    "    glob=\"**/*.pdf\", ## Pattern to match files  \n",
    "    loader_cls= PyMuPDFLoader, ##loader class to use\n",
    "    show_progress=False\n",
    "\n",
    ")\n",
    "\n",
    "pdf_documents=dir_loader.load()\n",
    "pdf_documents"
   ]
  },
  {
   "cell_type": "code",
   "execution_count": 12,
   "id": "ba97cfdb-f200-4323-830f-bd078d14c2d0",
   "metadata": {},
   "outputs": [
    {
     "data": {
      "text/plain": [
       "langchain_core.documents.base.Document"
      ]
     },
     "execution_count": 12,
     "metadata": {},
     "output_type": "execute_result"
    }
   ],
   "source": [
    "type(pdf_documents[0])"
   ]
  },
  {
   "cell_type": "code",
   "execution_count": null,
   "id": "e0c29782-1fe0-4ecb-8638-2cbfef5d554c",
   "metadata": {},
   "outputs": [],
   "source": []
  }
 ],
 "metadata": {
  "kernelspec": {
   "display_name": "Python 3 (ipykernel)",
   "language": "python",
   "name": "python3"
  },
  "language_info": {
   "codemirror_mode": {
    "name": "ipython",
    "version": 3
   },
   "file_extension": ".py",
   "mimetype": "text/x-python",
   "name": "python",
   "nbconvert_exporter": "python",
   "pygments_lexer": "ipython3",
   "version": "3.9.18"
  }
 },
 "nbformat": 4,
 "nbformat_minor": 5
}
